{
  "nbformat": 4,
  "nbformat_minor": 0,
  "metadata": {
    "colab": {
      "name": "Untitled",
      "provenance": [],
      "authorship_tag": "ABX9TyPK4kNpX+onT4BKBNJd5Jig",
      "include_colab_link": true
    },
    "kernelspec": {
      "name": "python3",
      "display_name": "Python 3"
    },
    "language_info": {
      "name": "python"
    }
  },
  "cells": [
    {
      "cell_type": "markdown",
      "metadata": {
        "id": "view-in-github",
        "colab_type": "text"
      },
      "source": [
        "<a href=\"https://colab.research.google.com/github/Inoueyoshito/Python_larning/blob/main/Untitled.ipynb\" target=\"_parent\"><img src=\"https://colab.research.google.com/assets/colab-badge.svg\" alt=\"Open In Colab\"/></a>"
      ]
    },
    {
      "cell_type": "code",
      "source": [
        "l = [1, '22', 3, '444', 0.0, '5']\n",
        "\n",
        "new_l = [v for v in l if isinstance(v, int)]\n",
        "print(f'最大値 : {max(new_l)}')\n",
        "print(f'最小値 : {min(new_l)}')"
      ],
      "metadata": {
        "colab": {
          "base_uri": "https://localhost:8080/"
        },
        "id": "TCy2xcNgGQqe",
        "outputId": "142c6f84-4ab6-4ac2-da5d-71f666803d98"
      },
      "execution_count": 7,
      "outputs": [
        {
          "output_type": "stream",
          "name": "stdout",
          "text": [
            "最大値 : 3\n",
            "最小値 : 1\n"
          ]
        }
      ]
    },
    {
      "cell_type": "code",
      "source": [
        "l = [0, '1', 3, 2, '4', 5, '7']\n",
        "\n",
        "new_l = [v for i, v in enumerate(l) if i == int(v)]\n",
        "print(f'インデックスと値が一致 : {new_l}')"
      ],
      "metadata": {
        "colab": {
          "base_uri": "https://localhost:8080/"
        },
        "id": "MlxofRWPGRMC",
        "outputId": "675bea59-24b7-4876-eff1-882d2ae5590c"
      },
      "execution_count": 16,
      "outputs": [
        {
          "output_type": "stream",
          "name": "stdout",
          "text": [
            "インデックスと値が一致 : [0, '1', '4', 5]\n"
          ]
        }
      ]
    },
    {
      "cell_type": "code",
      "source": [
        "l = [1, 2, 3, 3]\n",
        "\n",
        "if len(set(l)) < len(l):\n",
        "  print('重複している値があります')\n",
        "else:\n",
        "  print('重複している値がありません')\n"
      ],
      "metadata": {
        "colab": {
          "base_uri": "https://localhost:8080/"
        },
        "id": "HInjasvYGRQr",
        "outputId": "3ee31ed7-ffac-40b2-d687-38dc24373a50"
      },
      "execution_count": 21,
      "outputs": [
        {
          "output_type": "stream",
          "name": "stdout",
          "text": [
            "重複している値があります\n"
          ]
        }
      ]
    },
    {
      "cell_type": "code",
      "source": [
        "l = [4, 'aaa', 2, 'ddd', 'ccc', 3, 1, 'bbb']\n",
        "\n",
        "one_l = sorted([v for v in l if isinstance(v, int)])\n",
        "two_l = sorted([v for v in l if isinstance(v, str)])\n",
        "\n",
        "print(f'リストをソートすると{one_l + two_l}')"
      ],
      "metadata": {
        "colab": {
          "base_uri": "https://localhost:8080/"
        },
        "id": "G2acR9auGRVs",
        "outputId": "936c42d2-84b2-4543-91b9-9d922b60ea00"
      },
      "execution_count": 27,
      "outputs": [
        {
          "output_type": "stream",
          "name": "stdout",
          "text": [
            "リストをソートすると[1, 2, 3, 4, 'aaa', 'bbb', 'ccc', 'ddd']\n"
          ]
        }
      ]
    },
    {
      "cell_type": "code",
      "source": [
        "l = [1, 2, 3, 5]\n",
        "\n",
        "for v in l:\n",
        "  if isinstance(v, str):\n",
        "    print('文字列が入っています')\n",
        "    break\n",
        "else:\n",
        "  print('文字列が入っていません')"
      ],
      "metadata": {
        "colab": {
          "base_uri": "https://localhost:8080/"
        },
        "id": "KFFlExpLGRZq",
        "outputId": "518e744c-e58a-4bc1-f3e6-5271ae494971"
      },
      "execution_count": 37,
      "outputs": [
        {
          "output_type": "stream",
          "name": "stdout",
          "text": [
            "文字列が入っていません\n"
          ]
        }
      ]
    },
    {
      "cell_type": "code",
      "source": [
        "l = [1, 2, 3, '4', 5]\n",
        "\n",
        "if any(isinstance(v, str) for v in l):\n",
        "  print('入っています')\n",
        "else:\n",
        "  print('入っていません')"
      ],
      "metadata": {
        "colab": {
          "base_uri": "https://localhost:8080/"
        },
        "id": "X4zQQovihNZq",
        "outputId": "32d2a5dd-2153-454a-d20d-b15fa2d4a29b"
      },
      "execution_count": 39,
      "outputs": [
        {
          "output_type": "stream",
          "name": "stdout",
          "text": [
            "入っています\n"
          ]
        }
      ]
    },
    {
      "cell_type": "code",
      "source": [
        "l = [1, 2, 3, 4, 5]\n",
        "\n",
        "for i in range(0, 10, 5):\n",
        "  l.insert(i, 'list')\n",
        "print(l)"
      ],
      "metadata": {
        "colab": {
          "base_uri": "https://localhost:8080/"
        },
        "id": "zEYlRdUji23f",
        "outputId": "550a20d1-e45e-4e54-8d51-c8916a4c964e"
      },
      "execution_count": 45,
      "outputs": [
        {
          "output_type": "stream",
          "name": "stdout",
          "text": [
            "['list', 1, 2, 3, 4, 'list', 5]\n"
          ]
        }
      ]
    },
    {
      "cell_type": "code",
      "source": [
        "l = ['Python1', 'Java1', 1, 'Python2', 'Java2', 2]\n",
        "new_l = [v for v in l if 'Python' not in str(v)] \n",
        "print(f'文字列\"Python\"を削除したリスト{new_l}')"
      ],
      "metadata": {
        "colab": {
          "base_uri": "https://localhost:8080/"
        },
        "id": "f-GoTuS0kuer",
        "outputId": "79629a29-8dca-40ed-d099-e95fe55ca8bb"
      },
      "execution_count": 52,
      "outputs": [
        {
          "output_type": "stream",
          "name": "stdout",
          "text": [
            "文字列\"Python\"を削除したリスト['Java1', 1, 'Java2', 2]\n"
          ]
        }
      ]
    },
    {
      "cell_type": "code",
      "source": [
        "l = [1, 3, 2, 3, 4, 6, 5, 8, 7]\n",
        "\n",
        "new_l = [v for i, v in enumerate(l) if not (i % 3 == 0 and v % 3 == 0)]\n",
        "print(new_l)"
      ],
      "metadata": {
        "colab": {
          "base_uri": "https://localhost:8080/"
        },
        "id": "abaB0wHhnQLn",
        "outputId": "8a5e8fcd-45d7-4ad3-ce3e-6880d5666f9e"
      },
      "execution_count": 4,
      "outputs": [
        {
          "output_type": "stream",
          "name": "stdout",
          "text": [
            "[1, 3, 2, 4, 6, 5, 8, 7]\n"
          ]
        }
      ]
    },
    {
      "cell_type": "code",
      "source": [
        "telephone_numbers = ['080-1203-4455', '090-9372-9682', '090-3080-4982', '080-3917-5918']\n",
        "\n",
        "new_l  = [v for v in telephone_numbers if '080' in v[:3]]\n",
        "print(new_l)"
      ],
      "metadata": {
        "colab": {
          "base_uri": "https://localhost:8080/"
        },
        "id": "5nxcniGsp7-h",
        "outputId": "18150ded-1162-4e2e-84de-76d6a23316ae"
      },
      "execution_count": 5,
      "outputs": [
        {
          "output_type": "stream",
          "name": "stdout",
          "text": [
            "['080-1203-4455', '080-3917-5918']\n"
          ]
        }
      ]
    },
    {
      "cell_type": "code",
      "source": [
        "phone_numbers = ['080-1203-4455', '090-9372-9682', '03-9471-5929', '070-3917-5918', '04-8572-8910']\n",
        "\n",
        "new_l = [v for v in telephone_numbers if v.find('-') == 3]\n",
        "print(new_l)"
      ],
      "metadata": {
        "colab": {
          "base_uri": "https://localhost:8080/"
        },
        "id": "uQL68F-FruNC",
        "outputId": "c5fa2de3-238e-456c-b58d-ba124a981808"
      },
      "execution_count": 8,
      "outputs": [
        {
          "output_type": "stream",
          "name": "stdout",
          "text": [
            "['080-1203-4455', '090-9372-9682', '090-3080-4982', '080-3917-5918']\n"
          ]
        }
      ]
    },
    {
      "cell_type": "code",
      "source": [
        "l1 = [4, 6, 9, 2]\n",
        "l2 = [3, 5, 7]\n",
        "l3 = [1, 9, 7]\n",
        "\n",
        "l = [l1, l2, l3]\n",
        "l_sorte = sorted(l, key=lambda v: sum(v) / len(v), reverse=True)\n",
        "print(l_sorte[0])"
      ],
      "metadata": {
        "colab": {
          "base_uri": "https://localhost:8080/"
        },
        "id": "CHij8-vGtXTS",
        "outputId": "8c137768-5b4e-45f4-d7a7-473935b0d88c"
      },
      "execution_count": 14,
      "outputs": [
        {
          "output_type": "stream",
          "name": "stdout",
          "text": [
            "[1, 9, 7]\n"
          ]
        }
      ]
    },
    {
      "cell_type": "code",
      "source": [
        "l = (1, 2, 3)\n",
        "l_1 = tuple([1, 2, 3])\n",
        "print(l)\n",
        "print(l_1)"
      ],
      "metadata": {
        "colab": {
          "base_uri": "https://localhost:8080/"
        },
        "id": "RJPjbe7G7eAf",
        "outputId": "ed59eb25-11fb-473b-e287-4df9d0099f18"
      },
      "execution_count": 16,
      "outputs": [
        {
          "output_type": "stream",
          "name": "stdout",
          "text": [
            "(1, 2, 3)\n",
            "(1, 2, 3)\n"
          ]
        }
      ]
    },
    {
      "cell_type": "code",
      "source": [
        "l = (1,)\n",
        "print(l)\n",
        "print(type(l))"
      ],
      "metadata": {
        "colab": {
          "base_uri": "https://localhost:8080/"
        },
        "id": "JErQup4aPx26",
        "outputId": "02cc275a-6844-44e5-cc31-a12682ff7aa3"
      },
      "execution_count": 18,
      "outputs": [
        {
          "output_type": "stream",
          "name": "stdout",
          "text": [
            "(1,)\n",
            "<class 'tuple'>\n"
          ]
        }
      ]
    },
    {
      "cell_type": "code",
      "source": [
        "l = [1, 2, 3, 4, 5, 6, 7, 8, 9]\n",
        "\n",
        "new_l = [tuple(l[i:i+3]) for i in range(0, 9, 3)]\n",
        "print(new_l)"
      ],
      "metadata": {
        "colab": {
          "base_uri": "https://localhost:8080/"
        },
        "id": "5rq5KBPqQG_v",
        "outputId": "7477a389-01e3-4fa5-b302-26a093cf48f6"
      },
      "execution_count": 20,
      "outputs": [
        {
          "output_type": "stream",
          "name": "stdout",
          "text": [
            "[(1, 2, 3), (4, 5, 6), (7, 8, 9)]\n"
          ]
        }
      ]
    },
    {
      "cell_type": "code",
      "source": [
        "l = [(1, 2, 3), (4, 5, 6), (7, 8, 9)]\n",
        "for i, row in enumerate(l, start=1):\n",
        "  a, b, c = row\n",
        "  print(f'{i}行目の値 : {a}, {b}, {c}')"
      ],
      "metadata": {
        "colab": {
          "base_uri": "https://localhost:8080/"
        },
        "id": "ov9DqrM0SLoq",
        "outputId": "cd28eb90-96e0-49f6-e824-ef87c6f4dea9"
      },
      "execution_count": 27,
      "outputs": [
        {
          "output_type": "stream",
          "name": "stdout",
          "text": [
            "1行目の値 : 1, 2, 3\n",
            "2行目の値 : 4, 5, 6\n",
            "3行目の値 : 7, 8, 9\n"
          ]
        }
      ]
    },
    {
      "cell_type": "code",
      "source": [
        "t = (1, '2', 3, '4', 5, '6', 7, '8', 9)\n",
        "new_l = tuple(reversed(t))\n",
        "print(new_l)"
      ],
      "metadata": {
        "colab": {
          "base_uri": "https://localhost:8080/"
        },
        "id": "N-ODPuHYUYxL",
        "outputId": "e8c4d71e-dda0-4eb5-b046-9db1c8161f88"
      },
      "execution_count": 32,
      "outputs": [
        {
          "output_type": "stream",
          "name": "stdout",
          "text": [
            "(9, '8', 7, '6', 5, '4', 3, '2', 1)\n"
          ]
        }
      ]
    },
    {
      "cell_type": "code",
      "source": [
        "t = (1, '2', 3, '4', 5)\n",
        "str_t = (str(v) for v in t)\n",
        "converted_int  = int(''.join(str_t))\n",
        "print(converted_int)p"
      ],
      "metadata": {
        "colab": {
          "base_uri": "https://localhost:8080/"
        },
        "id": "04IqT1chVQVV",
        "outputId": "485f48a9-e136-44d5-d8e0-d3a41b1729fa"
      },
      "execution_count": 42,
      "outputs": [
        {
          "output_type": "stream",
          "name": "stdout",
          "text": [
            "<generator object <genexpr> at 0x7f4c4cabc6d0>\n",
            "12345\n"
          ]
        }
      ]
    },
    {
      "cell_type": "code",
      "source": [
        "t = (1, [2, 3], '4', (5, 6, 7), '8', (9, 10))\n",
        "new_t = [v for v in t if isinstance(v, tuple)]\n",
        "print(len(new_t))"
      ],
      "metadata": {
        "colab": {
          "base_uri": "https://localhost:8080/"
        },
        "id": "xqixDzq3YG4j",
        "outputId": "8df18f7c-b3d0-4417-ce13-782a441ff7a7"
      },
      "execution_count": 48,
      "outputs": [
        {
          "output_type": "stream",
          "name": "stdout",
          "text": [
            "2\n"
          ]
        }
      ]
    },
    {
      "cell_type": "code",
      "source": [
        "t = (1, [2, 3], '4', (5, 6, 7), None, (9, 10))\n",
        "\n",
        "t_to_tuple = []\n",
        "for v in t:\n",
        "  if isinstance(v, tuple):\n",
        "    t_to_tuple.append(v)\n",
        "  elif isinstance(v, list):\n",
        "    t_to_tuple.append(tuple(v))\n",
        "  else:\n",
        "    t_to_tuple.append((v, ))\n",
        "print(f'変換したタプル : {tuple(t_to_tuple)}')"
      ],
      "metadata": {
        "colab": {
          "base_uri": "https://localhost:8080/"
        },
        "id": "rETzXdVNZWY3",
        "outputId": "0595da42-66a4-40b8-d3b3-175c2df51853"
      },
      "execution_count": 52,
      "outputs": [
        {
          "output_type": "stream",
          "name": "stdout",
          "text": [
            "変換したタプル : ((1,), (2, 3), ('4',), (5, 6, 7), (None,), (9, 10))\n"
          ]
        }
      ]
    },
    {
      "cell_type": "code",
      "source": [
        "print({1, 2, 3})\n",
        "print('set()')"
      ],
      "metadata": {
        "colab": {
          "base_uri": "https://localhost:8080/"
        },
        "id": "pjhZ-9_6bkiI",
        "outputId": "b31fbe66-d1c6-40fa-f82d-2b28041d3682"
      },
      "execution_count": 53,
      "outputs": [
        {
          "output_type": "stream",
          "name": "stdout",
          "text": [
            "{1, 2, 3}\n",
            "set()\n"
          ]
        }
      ]
    },
    {
      "cell_type": "code",
      "source": [
        "l1 = [1, 2, 3, 4, 5]\n",
        "l2 = [7, 6, 5, 4]\n",
        "\n",
        "r = set(l1) | set(l2) \n",
        "print(r)"
      ],
      "metadata": {
        "colab": {
          "base_uri": "https://localhost:8080/"
        },
        "id": "-S3abRA3cWuZ",
        "outputId": "95c30abe-0e14-4110-dbf6-923b28db83d4"
      },
      "execution_count": 55,
      "outputs": [
        {
          "output_type": "stream",
          "name": "stdout",
          "text": [
            "{1, 2, 3, 4, 5, 6, 7}\n"
          ]
        }
      ]
    },
    {
      "cell_type": "code",
      "source": [
        "l1 = [1, 2, 3, 4, 5]\n",
        "l2 = [7, 6, 5, 4]\n",
        "\n",
        "c = []\n",
        "for i in l1:\n",
        "  if i not in l2:\n",
        "    c.append(i)\n",
        "print(set(c))"
      ],
      "metadata": {
        "colab": {
          "base_uri": "https://localhost:8080/"
        },
        "id": "ChPOXOxRemaB",
        "outputId": "70655383-2a0a-4ecb-8c45-6b012d76ca74"
      },
      "execution_count": 59,
      "outputs": [
        {
          "output_type": "stream",
          "name": "stdout",
          "text": [
            "{1, 2, 3}\n"
          ]
        }
      ]
    },
    {
      "cell_type": "code",
      "source": [
        "l1 = [1, 2, 3, 4, 5]\n",
        "l2 = [7, 6, 5, 4]\n",
        "r = set(l1) - set(l2)\n",
        "print(r)"
      ],
      "metadata": {
        "colab": {
          "base_uri": "https://localhost:8080/"
        },
        "id": "DQRoLxc5fdrp",
        "outputId": "e7367f17-30b9-41ad-8d9a-34002e31f649"
      },
      "execution_count": 60,
      "outputs": [
        {
          "output_type": "stream",
          "name": "stdout",
          "text": [
            "{1, 2, 3}\n"
          ]
        }
      ]
    },
    {
      "cell_type": "code",
      "source": [
        "l1 = [1, 2, 3, 4, 5]\n",
        "l2 = [7, 6, 5, 4]\n",
        "\n",
        "r = set(l1) ^ set(l2)\n",
        "print(r)"
      ],
      "metadata": {
        "colab": {
          "base_uri": "https://localhost:8080/"
        },
        "id": "0S-vU9GGfnef",
        "outputId": "e6a8ab12-0656-4af2-f8a2-f3d8ff8c88ac"
      },
      "execution_count": 63,
      "outputs": [
        {
          "output_type": "stream",
          "name": "stdout",
          "text": [
            "{1, 2, 3, 6, 7}\n"
          ]
        }
      ]
    },
    {
      "cell_type": "code",
      "source": [
        "l1 = [1, 2, 3, 4, 5]\n",
        "l2 = [3, 4, 5]\n",
        "\n",
        "print(f'l1はl2に含まれている : {set(l1).issubset(set(l2))}')\n",
        "print(f'l1はl2に含まれている : {set(l2).issubset(set(l1))}')"
      ],
      "metadata": {
        "colab": {
          "base_uri": "https://localhost:8080/"
        },
        "id": "aVYid5aJhvpQ",
        "outputId": "35f94a41-2078-4de3-baa3-0358622c630e"
      },
      "execution_count": 1,
      "outputs": [
        {
          "output_type": "stream",
          "name": "stdout",
          "text": [
            "l1はl2に含まれている : False\n",
            "l1はl2に含まれている : True\n"
          ]
        }
      ]
    },
    {
      "cell_type": "code",
      "source": [
        "d = {'A': 111, 'B': 222, 'C': 333}\n",
        "\n",
        "d.update({'D': 444})\n",
        "print(F'1つ目のパターン　：　{d}')\n",
        "d['D'] = 444\n",
        "print(d)"
      ],
      "metadata": {
        "colab": {
          "base_uri": "https://localhost:8080/"
        },
        "id": "NED_ODD7xn54",
        "outputId": "515bf979-3e86-42f8-ff61-e835f723ae6d"
      },
      "execution_count": 3,
      "outputs": [
        {
          "output_type": "stream",
          "name": "stdout",
          "text": [
            "1つ目のパターン　：　{'A': 111, 'B': 222, 'C': 333, 'D': 444}\n",
            "{'A': 111, 'B': 222, 'C': 333, 'D': 444}\n"
          ]
        }
      ]
    },
    {
      "cell_type": "code",
      "source": [
        "d1 = {'A': 111, 'B': 222, 'C': 333}\n",
        "d2 = {'D': 444, 'E': 555}\n",
        "d3 = {'F': 666}\n",
        "\n",
        "new_d = {}\n",
        "for d in [d1, d2, d3]:\n",
        "  new_d.update(d)\n",
        "\n",
        "print(new_d)"
      ],
      "metadata": {
        "colab": {
          "base_uri": "https://localhost:8080/"
        },
        "id": "qKY0VEhr0X-3",
        "outputId": "40d0a481-25c7-4092-ec9f-75022be00b68"
      },
      "execution_count": 4,
      "outputs": [
        {
          "output_type": "stream",
          "name": "stdout",
          "text": [
            "{'A': 111, 'B': 222, 'C': 333, 'D': 444, 'E': 555, 'F': 666}\n"
          ]
        }
      ]
    },
    {
      "cell_type": "code",
      "source": [
        "d1 = {'A': 111, 'B': 222, 'C': 333}\n",
        "d2 = {'D': 444, 'E': 555}\n",
        "d3 = {'F': 666}\n",
        "new_d = {**d1, **d2, **d3}\n",
        "print(new_d)"
      ],
      "metadata": {
        "colab": {
          "base_uri": "https://localhost:8080/"
        },
        "id": "FwWI1FgJ19J6",
        "outputId": "6de24aa6-326a-4af1-8582-82b7a9289496"
      },
      "execution_count": 9,
      "outputs": [
        {
          "output_type": "stream",
          "name": "stdout",
          "text": [
            "{'A': 111, 'B': 222, 'C': 333, 'D': 444, 'E': 555, 'F': 666}\n"
          ]
        }
      ]
    },
    {
      "cell_type": "code",
      "source": [
        "d = {'A': 111, 'B': 222, 'C': 333}\n",
        "result = 'A' in d.keys()\n",
        "print(result)"
      ],
      "metadata": {
        "colab": {
          "base_uri": "https://localhost:8080/"
        },
        "id": "2utOpwe83830",
        "outputId": "7a032bae-3732-4c3b-eae0-5f8ec8d38d85"
      },
      "execution_count": 15,
      "outputs": [
        {
          "output_type": "stream",
          "name": "stdout",
          "text": [
            "True\n"
          ]
        }
      ]
    },
    {
      "cell_type": "code",
      "source": [
        "d = {'A': 111, 'B': 222, 'C': 333}\n",
        "result = '444' in d.values()\n",
        "print(result)"
      ],
      "metadata": {
        "colab": {
          "base_uri": "https://localhost:8080/"
        },
        "id": "fiOGH5rn6muM",
        "outputId": "604c0aa4-7ca9-4732-a87f-44751a1719d1"
      },
      "execution_count": 14,
      "outputs": [
        {
          "output_type": "stream",
          "name": "stdout",
          "text": [
            "False\n"
          ]
        }
      ]
    },
    {
      "cell_type": "code",
      "source": [
        "keys = ['A', 'B', 'C']\n",
        "values = [111, 222 ,333]\n",
        "d = dict(zip(keys, values))\n",
        "print(d)"
      ],
      "metadata": {
        "colab": {
          "base_uri": "https://localhost:8080/"
        },
        "id": "OJOvW8HLBDW3",
        "outputId": "d7906621-6f51-4f9f-9888-0b4c29ce19da"
      },
      "execution_count": 1,
      "outputs": [
        {
          "output_type": "stream",
          "name": "stdout",
          "text": [
            "{'A': 111, 'B': 222, 'C': 333}\n"
          ]
        }
      ]
    },
    {
      "cell_type": "code",
      "source": [
        "keys = ['A', 'B', 'C']\n",
        "values = [111, 222 ,333]\n",
        "d = {key:value for key, value in zip(keys, values)}\n",
        "print(d)"
      ],
      "metadata": {
        "colab": {
          "base_uri": "https://localhost:8080/"
        },
        "id": "xH0r3dgNCf1c",
        "outputId": "e7f600e3-843a-49d2-c9ae-525ef2ccc5d2"
      },
      "execution_count": 4,
      "outputs": [
        {
          "output_type": "stream",
          "name": "stdout",
          "text": [
            "{'A': 111, 'B': 222, 'C': 333}\n"
          ]
        }
      ]
    },
    {
      "cell_type": "code",
      "source": [
        "d = {'A': 111, 'B': 222, 'C': 333}\n",
        "\n",
        "new_d = {k:v for k, v in d.items() if v > 150}\n",
        "print(new_d)"
      ],
      "metadata": {
        "colab": {
          "base_uri": "https://localhost:8080/"
        },
        "id": "hN42pXpZC5Ju",
        "outputId": "b641cfd3-68bb-4252-bc6e-a543b265114d"
      },
      "execution_count": 10,
      "outputs": [
        {
          "output_type": "stream",
          "name": "stdout",
          "text": [
            "{'B': 222, 'C': 333}\n"
          ]
        }
      ]
    },
    {
      "cell_type": "code",
      "source": [
        "d = {'A': 111, 'B': 222, 'C': 333}\n",
        "l = ['B', 'C', 'D', 'A']\n",
        "\n",
        "for key in l:\n",
        "  print(f'{key}に対応するValue : {d.get(key)}')"
      ],
      "metadata": {
        "colab": {
          "base_uri": "https://localhost:8080/"
        },
        "id": "1OK9hH6KEtzh",
        "outputId": "7118a22b-e9bc-485f-d19b-b5940ce29d9c"
      },
      "execution_count": 13,
      "outputs": [
        {
          "output_type": "stream",
          "name": "stdout",
          "text": [
            "Bに対応するValue : 222\n",
            "Cに対応するValue : 333\n",
            "Dに対応するValue : None\n",
            "Aに対応するValue : 111\n"
          ]
        }
      ]
    },
    {
      "cell_type": "code",
      "source": [
        "d = {'B': 222, 'A': 111, 'D': 444, 'C': 333}\n",
        "new_d = sorted(d.items(), reverse=True)\n",
        "print(new_d)"
      ],
      "metadata": {
        "colab": {
          "base_uri": "https://localhost:8080/"
        },
        "id": "mv5QAovqG-0f",
        "outputId": "f0cd5430-cfac-4c6a-cd83-ecdfafcc4757"
      },
      "execution_count": 20,
      "outputs": [
        {
          "output_type": "stream",
          "name": "stdout",
          "text": [
            "[('D', 444), ('C', 333), ('B', 222), ('A', 111)]\n"
          ]
        }
      ]
    },
    {
      "cell_type": "code",
      "source": [
        "d = {'B': 222, 'A': 111, 'D': 333, 'C': 444}\n",
        "new_d = dict(sorted(d.items(), key=lambda x: x[1]))\n",
        "print(new_d)"
      ],
      "metadata": {
        "colab": {
          "base_uri": "https://localhost:8080/"
        },
        "id": "Yp_mI93GIBKF",
        "outputId": "f5f1036e-f73c-47b5-da6d-d1cd93956bb8"
      },
      "execution_count": 27,
      "outputs": [
        {
          "output_type": "stream",
          "name": "stdout",
          "text": [
            "{'A': 111, 'B': 222, 'D': 333, 'C': 444}\n"
          ]
        }
      ]
    },
    {
      "cell_type": "code",
      "source": [
        "l = [{'id': 10000, 'feature': {'name': 'Michael', 'height': 180.3, 'weight': 63.7, 'skills': {'IT': ['Python', 'Golang', 'SQL'], 'Others': ['Chinese', 'Math']}}}, \n",
        "{'id': 10001, 'feature': {'name': 'Nancy', 'height': 156.7, 'weight': 39.7, 'skills': {'IT': ['Java', 'SQL', 'JavaScript'], 'Others': ['Accounting']}}}]\n",
        "\n",
        "print(l[0]['feature']['skills']['Others'][0])"
      ],
      "metadata": {
        "colab": {
          "base_uri": "https://localhost:8080/"
        },
        "id": "Ipl_iuxMJltn",
        "outputId": "04a704fa-b660-4e0d-f79f-c3bfc98cbb1c"
      },
      "execution_count": 39,
      "outputs": [
        {
          "output_type": "stream",
          "name": "stdout",
          "text": [
            "Chinese\n"
          ]
        }
      ]
    },
    {
      "cell_type": "code",
      "source": [
        "l = [{'id': 10000, 'feature': {'name': 'Michael', 'height': 180.3, 'weight': 63.7, 'skills': {'IT': ['Python', 'Golang', 'SQL'], 'Others': ['Chinese', 'Math']}}}, \n",
        "{'id': 10001, 'feature': {'name': 'Nancy', 'height': 156.7, 'weight': 39.7, 'skills': {'IT': ['Java', 'SQL', 'JavaScript'], 'Others': ['Accounting']}}}]\n",
        "\n",
        "it_skills = [d['feature']['skills']['IT'] for d in l]\n",
        "micheael_skill, nancy_skill = it_skills\n",
        "common_skill = set(micheael_skill) & set(nancy_skill)\n",
        "print(common_skill)"
      ],
      "metadata": {
        "colab": {
          "base_uri": "https://localhost:8080/"
        },
        "id": "FYdyo0CiMzZe",
        "outputId": "9f91c698-9f1b-49ec-8549-9c00017ed197"
      },
      "execution_count": 41,
      "outputs": [
        {
          "output_type": "stream",
          "name": "stdout",
          "text": [
            "{'SQL'}\n"
          ]
        }
      ]
    },
    {
      "cell_type": "code",
      "source": [
        "d = {'B': 222, 'A': 111, 'D': 444, 'C': 333}\n",
        "new_d = max(d.values())\n",
        "print(new_d)"
      ],
      "metadata": {
        "colab": {
          "base_uri": "https://localhost:8080/"
        },
        "id": "uIyylUkROgkl",
        "outputId": "d9a1d3a5-d7e9-4731-fb0a-1c1f406ad9f4"
      },
      "execution_count": 47,
      "outputs": [
        {
          "output_type": "stream",
          "name": "stdout",
          "text": [
            "444\n"
          ]
        }
      ]
    },
    {
      "cell_type": "code",
      "source": [
        "d = {'B': 222, 'A': 111, 'D': 444, 'C': 333}\n",
        "\n",
        "new_d = min(d.keys(), key=lambda k: d[k])\n",
        "print(new_d)"
      ],
      "metadata": {
        "colab": {
          "base_uri": "https://localhost:8080/"
        },
        "id": "hbyINuj0Qp10",
        "outputId": "a8544a0b-8f52-4168-ad8c-7cc099b6a012"
      },
      "execution_count": 52,
      "outputs": [
        {
          "output_type": "stream",
          "name": "stdout",
          "text": [
            "A\n"
          ]
        }
      ]
    },
    {
      "cell_type": "code",
      "source": [
        "target = {}\n",
        "if target == {}:\n",
        "  print('空の辞書です')\n",
        "else:\n",
        "  print(target)"
      ],
      "metadata": {
        "colab": {
          "base_uri": "https://localhost:8080/"
        },
        "id": "4Z0uhUOYSHRV",
        "outputId": "b2abc3ff-0cdd-49b2-d468-ddd905cee734"
      },
      "execution_count": 59,
      "outputs": [
        {
          "output_type": "stream",
          "name": "stdout",
          "text": [
            "空の辞書です\n"
          ]
        }
      ]
    },
    {
      "cell_type": "code",
      "source": [
        "d = {'B': 222, 'A': 111, 'D': 444, 'C': 333}\n",
        "\n",
        "new_d = {k: v for k, v in d.items() if v % 2 == 0}\n",
        "print(new_d)"
      ],
      "metadata": {
        "colab": {
          "base_uri": "https://localhost:8080/"
        },
        "id": "ofRSPCXBTLpA",
        "outputId": "4e2ba391-e6a0-4737-b553-3a48c575814c"
      },
      "execution_count": 62,
      "outputs": [
        {
          "output_type": "stream",
          "name": "stdout",
          "text": [
            "{'B': 222, 'D': 444}\n"
          ]
        }
      ]
    },
    {
      "cell_type": "code",
      "source": [
        "d = {'B': 222, 'A': 111, 'D': 444, 'C': 333}\n",
        "\n",
        "new_d = d.copy()\n",
        "for k, v in d.items():\n",
        "  if v % 2 != 0:\n",
        "    del new_d[k]\n",
        "print(new_d)\n"
      ],
      "metadata": {
        "colab": {
          "base_uri": "https://localhost:8080/"
        },
        "id": "9DKL6iqsVkj2",
        "outputId": "1c2929e1-eb3e-4ef4-d37a-28a17587da96"
      },
      "execution_count": 64,
      "outputs": [
        {
          "output_type": "stream",
          "name": "stdout",
          "text": [
            "{'B': 222, 'D': 444}\n"
          ]
        }
      ]
    }
  ]
}