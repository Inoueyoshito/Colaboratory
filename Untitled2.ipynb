{
  "nbformat": 4,
  "nbformat_minor": 0,
  "metadata": {
    "colab": {
      "name": "Untitled2.ipynb",
      "provenance": [],
      "collapsed_sections": [],
      "authorship_tag": "ABX9TyPTIJtDZDmQMvBeNp7dvwr/",
      "include_colab_link": true
    },
    "kernelspec": {
      "name": "python3",
      "display_name": "Python 3"
    },
    "language_info": {
      "name": "python"
    }
  },
  "cells": [
    {
      "cell_type": "markdown",
      "metadata": {
        "id": "view-in-github",
        "colab_type": "text"
      },
      "source": [
        "<a href=\"https://colab.research.google.com/github/Inoueyoshito/Python_larning/blob/main/Untitled2.ipynb\" target=\"_parent\"><img src=\"https://colab.research.google.com/assets/colab-badge.svg\" alt=\"Open In Colab\"/></a>"
      ]
    },
    {
      "cell_type": "code",
      "execution_count": null,
      "metadata": {
        "colab": {
          "base_uri": "https://localhost:8080/"
        },
        "id": "0DK-dFDPcW-Y",
        "outputId": "64b27a78-fbb2-4263-aef3-93d7ed7f4227"
      },
      "outputs": [
        {
          "output_type": "stream",
          "name": "stdout",
          "text": [
            "Falseの数 : 3\n"
          ]
        }
      ],
      "source": [
        "l = [False, True, False, False, True]\n",
        "\n",
        "c = len(l) - sum(l)\n",
        "print(f'Falseの数 : {c}')"
      ]
    },
    {
      "cell_type": "code",
      "source": [
        "l = [False, True, False, False, True]\n",
        "\n",
        "c = [int(v) for v in l]\n",
        "print(f'作成したリスト : {c}')"
      ],
      "metadata": {
        "colab": {
          "base_uri": "https://localhost:8080/"
        },
        "id": "J-kJIKNOg2o_",
        "outputId": "f91c02d5-278c-438e-d93b-cab60b2d7746"
      },
      "execution_count": null,
      "outputs": [
        {
          "output_type": "stream",
          "name": "stdout",
          "text": [
            "作成したリスト : [0, 1, 0, 0, 1]\n"
          ]
        }
      ]
    },
    {
      "cell_type": "code",
      "source": [
        "a = 7\n",
        "if not (a == 3 or a == 7):\n",
        "  print(f'{a}は３でも7でもありません')"
      ],
      "metadata": {
        "id": "0jORNh9SiTxv"
      },
      "execution_count": null,
      "outputs": []
    },
    {
      "cell_type": "code",
      "source": [
        "l = [1, 0, [], (2, 3), 'AA', '', False, ''*3]\n",
        "is_true_list = [bool(v) for v in l]\n",
        "print(f'Trueの数 : {sum(is_true_list)}')"
      ],
      "metadata": {
        "colab": {
          "base_uri": "https://localhost:8080/"
        },
        "id": "xVnQ33fNmxrD",
        "outputId": "fa7bd532-5fb3-49f2-a8f5-0ff127b3233e"
      },
      "execution_count": null,
      "outputs": [
        {
          "output_type": "stream",
          "name": "stdout",
          "text": [
            "Trueの数 : 3\n"
          ]
        }
      ]
    },
    {
      "cell_type": "code",
      "source": [
        "x = True\n",
        "r = 1 if x else 100\n",
        "print(f'判定結果 : {r}')\n"
      ],
      "metadata": {
        "colab": {
          "base_uri": "https://localhost:8080/"
        },
        "id": "UsNSNG_3qbbS",
        "outputId": "210e266d-0c8e-49c7-8a11-e4d0b4b35725"
      },
      "execution_count": null,
      "outputs": [
        {
          "output_type": "stream",
          "name": "stdout",
          "text": [
            "判定結果 : 1\n"
          ]
        }
      ]
    },
    {
      "cell_type": "code",
      "source": [
        "l = [1, 2, None, 3]\n",
        "\n",
        "for i in l:\n",
        "  if i is None:\n",
        "    i = 10000\n",
        "  print(i)"
      ],
      "metadata": {
        "colab": {
          "base_uri": "https://localhost:8080/"
        },
        "id": "bSgbk0TbtXWP",
        "outputId": "75c6dc66-78a7-4920-fcbf-d74c78e434ae"
      },
      "execution_count": null,
      "outputs": [
        {
          "output_type": "stream",
          "name": "stdout",
          "text": [
            "1\n",
            "2\n",
            "10000\n",
            "3\n"
          ]
        }
      ]
    },
    {
      "cell_type": "code",
      "source": [
        "l = [1, 2, None, False, '3', '4', None, True]\n",
        "new_l = [i for i in l if i is True or i is None]\n",
        "print(f'TrueとNoneの数 : {len(new_l)}')"
      ],
      "metadata": {
        "colab": {
          "base_uri": "https://localhost:8080/"
        },
        "id": "8VS5fF349OTh",
        "outputId": "bfaf14d4-53ba-426c-f1a5-d226ff7ee45b"
      },
      "execution_count": null,
      "outputs": [
        {
          "output_type": "stream",
          "name": "stdout",
          "text": [
            "TrueとNoneの数 : 3\n"
          ]
        }
      ]
    },
    {
      "cell_type": "code",
      "source": [
        "d = {0: 'グー', 1: 'チョキ', 2 :'パー'}\n",
        "tuple_l = tuple(d.keys())\n",
        "print(d)\n",
        "print(tuple_l)"
      ],
      "metadata": {
        "colab": {
          "base_uri": "https://localhost:8080/"
        },
        "id": "6_-pXGLIBy91",
        "outputId": "c4bf7687-7eed-4c4d-fba0-fbd61e3b11a7"
      },
      "execution_count": null,
      "outputs": [
        {
          "output_type": "stream",
          "name": "stdout",
          "text": [
            "{0: 'グー', 1: 'チョキ', 2: 'パー'}\n",
            "(0, 1, 2)\n"
          ]
        }
      ]
    },
    {
      "cell_type": "code",
      "source": [
        "import random\n",
        "\n",
        "d = {0: 'グー', 1: 'チョキ', 2 :'パー'}\n",
        "options = tuple(d.keys())\n",
        "computer_hand = random.choice(options)\n",
        "\n",
        "print('*'*10 + f'\\n選択肢 : {d}\\n' + '*'*10)\n",
        "\n",
        "my_hand = 99\n",
        "while my_hand not in options:\n",
        "    my_hand = input('自分が出す手を入力してください(整数 : 0, 1, 2)')\n",
        "    try:\n",
        "      my_hand = int(my_hand)\n",
        "    except:\n",
        "      print('整数の0, 1, 2を入力してください。')\n",
        "\n",
        "\n",
        "print(f'コンピューターの出した手 : {d[computer_hand]}')\n",
        "print(f'自分の出した手 : {d[my_hand]}')\n",
        "\n",
        "is_win = False\n",
        "if computer_hand == my_hand:\n",
        "  is_win = 'あいこ'\n",
        "else:\n",
        "  if computer_hand == 0 and my_hand == 2:\n",
        "    is_win = True\n",
        "  elif computer_hand == 1 and my_hand == 0:\n",
        "    is_win = True\n",
        "  elif computer_hand == 2 and my_hand == 1:\n",
        "    is_win = True\n",
        "\n",
        "if isinstance(is_win, bool):\n",
        "  is_win = '勝ち' if is_win else '負け'\n",
        "\n",
        "print(f'結果 : {is_win}')\n"
      ],
      "metadata": {
        "colab": {
          "base_uri": "https://localhost:8080/"
        },
        "id": "uS1BtpdjD1xk",
        "outputId": "a6b8efc7-fc78-483c-d4b0-e6fe129aafc7"
      },
      "execution_count": 7,
      "outputs": [
        {
          "output_type": "stream",
          "name": "stdout",
          "text": [
            "**********\n",
            "選択肢 : {0: 'グー', 1: 'チョキ', 2: 'パー'}\n",
            "**********\n",
            "自分が出す手を入力してください(整数 : 0, 1, 2)2\n",
            "コンピューターの出した手 : グー\n",
            "自分の出した手 : パー\n",
            "結果 : 勝ち\n"
          ]
        }
      ]
    },
    {
      "cell_type": "code",
      "source": [
        "s = 'This is the Python exercise.'\n",
        "new_s = [v for v in s.split() if 't' not in v]\n",
        "new2_s = ' '.join(new_s)\n",
        "print(f'削除後の文字列 : {new2_s}')"
      ],
      "metadata": {
        "colab": {
          "base_uri": "https://localhost:8080/"
        },
        "id": "TQTqJ6FQ-IKk",
        "outputId": "3216209e-5db9-4e7c-d206-0b1063071776"
      },
      "execution_count": 15,
      "outputs": [
        {
          "output_type": "stream",
          "name": "stdout",
          "text": [
            "削除後の文字列 : This is exercise.\n"
          ]
        }
      ]
    },
    {
      "cell_type": "code",
      "source": [
        "import json \n",
        "\n",
        "s = '{“A”: 111, “B”: 222, “C”: 333}'\n",
        "dic = json.loads(s)\n",
        "\n",
        "print(f'変換した辞書 : {dic}')\n",
        "print(f'型 : {dic}')"
      ],
      "metadata": {
        "id": "Jx3C7W5zDIUz"
      },
      "execution_count": null,
      "outputs": []
    },
    {
      "cell_type": "code",
      "source": [
        "s = '123a'\n",
        "\n",
        "if s.isdigit():\n",
        "  print(f'{s}は数字です')\n",
        "else:\n",
        "  print(f'{s}は数字ではありません')"
      ],
      "metadata": {
        "colab": {
          "base_uri": "https://localhost:8080/"
        },
        "id": "-zz8zAJBEDMk",
        "outputId": "95e6977b-792f-44a4-8f06-ea71a3088ada"
      },
      "execution_count": 38,
      "outputs": [
        {
          "output_type": "stream",
          "name": "stdout",
          "text": [
            "123aは数字ではありません\n"
          ]
        }
      ]
    },
    {
      "cell_type": "code",
      "source": [
        "s = 'Every day when I go home, I study programming.'\n",
        "\n",
        "s_list = s.split(', ')\n",
        "print(f'分割したリスト : {s_list}')"
      ],
      "metadata": {
        "colab": {
          "base_uri": "https://localhost:8080/"
        },
        "id": "uF02rNFrHL_M",
        "outputId": "904417a1-46f7-4fcb-ba18-37b723d500a1"
      },
      "execution_count": 43,
      "outputs": [
        {
          "output_type": "stream",
          "name": "stdout",
          "text": [
            "分割したリスト : ['Every day when I go home', 'I study programming.']\n"
          ]
        }
      ]
    },
    {
      "cell_type": "code",
      "source": [
        "l = ['アメリカ', 'カナダ', 'スイス', 'メキシコ', 'セントルシア', 'タイ']\n",
        "s = ['サ', 'シ', 'ス', 'セ', 'ソ']\n",
        "\n",
        "print('サ行を含む単語 : ')\n",
        "for word in l:\n",
        "  for v in s:\n",
        "    if v in word:\n",
        "      print(word)\n",
        "      break"
      ],
      "metadata": {
        "colab": {
          "base_uri": "https://localhost:8080/"
        },
        "id": "hAHq9iewH52e",
        "outputId": "5b4d65d5-bd8a-4514-bc35-9e3fa6d41a00"
      },
      "execution_count": 44,
      "outputs": [
        {
          "output_type": "stream",
          "name": "stdout",
          "text": [
            "サ行を含む単語 : \n",
            "スイス\n",
            "メキシコ\n",
            "セントルシア\n"
          ]
        }
      ]
    },
    {
      "cell_type": "code",
      "source": [
        "methods = dir(list)\n",
        "methods_list = [s for s in methods if '__' not in s]\n",
        "print(f'リストで使えるメゾット一覧 :\\n{methods_list}')"
      ],
      "metadata": {
        "colab": {
          "base_uri": "https://localhost:8080/"
        },
        "id": "VS1l8RLDJcTI",
        "outputId": "f14b8568-0bea-4c12-9db5-2a143124a741"
      },
      "execution_count": 54,
      "outputs": [
        {
          "output_type": "stream",
          "name": "stdout",
          "text": [
            "リストで使えるメゾット一覧 :\n",
            "['append', 'clear', 'copy', 'count', 'extend', 'index', 'insert', 'pop', 'remove', 'reverse', 'sort']\n"
          ]
        }
      ]
    },
    {
      "cell_type": "markdown",
      "source": [
        ""
      ],
      "metadata": {
        "id": "FYVONr0wLuEb"
      }
    }
  ]
}