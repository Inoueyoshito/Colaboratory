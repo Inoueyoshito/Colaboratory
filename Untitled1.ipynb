{
  "nbformat": 4,
  "nbformat_minor": 0,
  "metadata": {
    "colab": {
      "name": "Untitled1.ipynb",
      "provenance": [],
      "authorship_tag": "ABX9TyM4rwrUsgu354oroUauKg3S",
      "include_colab_link": true
    },
    "kernelspec": {
      "name": "python3",
      "display_name": "Python 3"
    },
    "language_info": {
      "name": "python"
    }
  },
  "cells": [
    {
      "cell_type": "markdown",
      "metadata": {
        "id": "view-in-github",
        "colab_type": "text"
      },
      "source": [
        "<a href=\"https://colab.research.google.com/github/Inoueyoshito/Python_larning/blob/main/Untitled1.ipynb\" target=\"_parent\"><img src=\"https://colab.research.google.com/assets/colab-badge.svg\" alt=\"Open In Colab\"/></a>"
      ]
    },
    {
      "cell_type": "code",
      "execution_count": null,
      "metadata": {
        "colab": {
          "base_uri": "https://localhost:8080/"
        },
        "id": "SaZQ8Hr66MGN",
        "outputId": "9c7da6a7-4aa0-432e-ae83-d101f629ef68"
      },
      "outputs": [
        {
          "output_type": "stream",
          "name": "stdout",
          "text": [
            "英単語を入力してくださいPHP\n",
            "P@P\n"
          ]
        }
      ],
      "source": [
        "word = input('英単語を入力してください')\n",
        "count = 0\n",
        "\n",
        "#単語の長さを計算する\n",
        "for _ in word:\n",
        "  count += 1\n",
        "\n",
        "index = count // 2\n",
        "\n",
        "# 偶数か奇数かに応じて処理を分岐させる(if)\n",
        "if count % 2 == 0:\n",
        "  word = word[:index] + '@' + word[index:]\n",
        "else:\n",
        "  word = word[:index] + '@' + word[index+1:]\n",
        "\n",
        "print(word)"
      ]
    },
    {
      "cell_type": "code",
      "source": [
        "word1 = input('一つ目の英単語を入力してください')\n",
        "word2 = input('二つ目の英単語を入力してください')\n",
        "word3 = input('三つ目の英単語を入力してください')\n",
        "\n",
        "a = [word1, word2, word3]\n",
        "\n",
        "a.sort()\n",
        "sort_words = '+'.join(a)\n",
        "\n",
        "print(sort_words)"
      ],
      "metadata": {
        "colab": {
          "base_uri": "https://localhost:8080/"
        },
        "id": "4ATgK9bjEVB5",
        "outputId": "b6f28669-fbe3-423a-bd45-1ea6abfbacf1"
      },
      "execution_count": null,
      "outputs": [
        {
          "output_type": "stream",
          "name": "stdout",
          "text": [
            "一つ目の英単語を入力してくださいa\n",
            "二つ目の英単語を入力してくださいb\n",
            "三つ目の英単語を入力してくださいc\n",
            "a+b+c\n"
          ]
        }
      ]
    },
    {
      "cell_type": "code",
      "source": [
        "l = [1, 2, 3,4, 5]\n",
        "\n",
        "c = 0\n",
        "for i in l:\n",
        "  c += i\n",
        "\n",
        "print(c)"
      ],
      "metadata": {
        "colab": {
          "base_uri": "https://localhost:8080/"
        },
        "id": "C0ytAHrZsPXX",
        "outputId": "991536e2-cd33-4a1c-9ef8-b4fd0a993b9e"
      },
      "execution_count": null,
      "outputs": [
        {
          "output_type": "stream",
          "name": "stdout",
          "text": [
            "15\n"
          ]
        }
      ]
    },
    {
      "cell_type": "code",
      "source": [
        "l = [1, 2, 3, 4, 5]\n",
        "\n",
        "c = l[0]\n",
        "\n",
        "for i in l:\n",
        "  if c < i:\n",
        "    c = i\n",
        "\n",
        "print(c)"
      ],
      "metadata": {
        "colab": {
          "base_uri": "https://localhost:8080/"
        },
        "id": "H8x2oPELsPY5",
        "outputId": "9abea666-eb44-4032-94d2-252f00285df1"
      },
      "execution_count": null,
      "outputs": [
        {
          "output_type": "stream",
          "name": "stdout",
          "text": [
            "5\n"
          ]
        }
      ]
    },
    {
      "cell_type": "code",
      "source": [
        "l = [1, 2, 7, 4, 5]\n",
        "\n",
        "c = max(l)\n",
        "\n",
        "print(c)"
      ],
      "metadata": {
        "colab": {
          "base_uri": "https://localhost:8080/"
        },
        "id": "9zscnrk3vkpW",
        "outputId": "1a55525f-3ef1-427f-a402-8c0224670347"
      },
      "execution_count": null,
      "outputs": [
        {
          "output_type": "stream",
          "name": "stdout",
          "text": [
            "7\n"
          ]
        }
      ]
    },
    {
      "cell_type": "code",
      "source": [
        "l = [1, 2, 2, 3, 3, 4, 5]\n",
        "a_list = list(set(l))\n",
        "print(a_list)\n",
        "# c = []\n",
        "# for i in l:\n",
        "#   if i != l:\n",
        "#     c = i"
      ],
      "metadata": {
        "colab": {
          "base_uri": "https://localhost:8080/"
        },
        "id": "8_jw9rGSv2Wv",
        "outputId": "4dc6a673-d4e3-4a40-cc4d-287d0afe5816"
      },
      "execution_count": null,
      "outputs": [
        {
          "output_type": "stream",
          "name": "stdout",
          "text": [
            "[1, 2, 3, 4, 5]\n"
          ]
        }
      ]
    },
    {
      "cell_type": "code",
      "source": [
        "l = ['Python', 'Ruby', 'PHP', 'JavaScript']\n",
        "\n",
        "min = l[0]\n",
        "\n",
        "for word in l[1:]:\n",
        "  min_length = len(min)\n",
        "  if len(word) < min_length:\n",
        "    min = word\n",
        "\n",
        "print(min)"
      ],
      "metadata": {
        "colab": {
          "base_uri": "https://localhost:8080/"
        },
        "id": "f90w_5Tjv2Yw",
        "outputId": "efd83d5a-7fec-4710-9873-d051bb2ad28d"
      },
      "execution_count": null,
      "outputs": [
        {
          "output_type": "stream",
          "name": "stdout",
          "text": [
            "PHP\n"
          ]
        }
      ]
    },
    {
      "cell_type": "code",
      "source": [
        "l = ['Python', 'Ruby', 'PHP', 'JavaScript']\n",
        "\n",
        "sorted_l = sorted(l, key=len)\n",
        "\n",
        "print(f'短い順に並び替えたリスト : {sorted_l}')\n"
      ],
      "metadata": {
        "colab": {
          "base_uri": "https://localhost:8080/"
        },
        "id": "yTYp3KsqYHG_",
        "outputId": "6a927641-2838-4f58-a626-477615b61980"
      },
      "execution_count": null,
      "outputs": [
        {
          "output_type": "stream",
          "name": "stdout",
          "text": [
            "短い順に並び替えたリスト : ['PHP', 'Ruby', 'Python', 'JavaScript']\n"
          ]
        }
      ]
    },
    {
      "cell_type": "code",
      "source": [
        "l1 = ['Python', 'Ruby', 'PHP', 'JavaScript']\n",
        "l2 = ['Java', 'Ruby', 'Golang', 'Python', 'TypeScript']\n",
        "\n",
        "c = []\n",
        "for a in l1:\n",
        "  for b in l2:\n",
        "    if a == b:\n",
        "      c.append(a)\n",
        "print(c)"
      ],
      "metadata": {
        "colab": {
          "base_uri": "https://localhost:8080/"
        },
        "id": "s6yzlcVwcTh_",
        "outputId": "39941b6c-b2ec-4613-cde3-a63c6646d269"
      },
      "execution_count": null,
      "outputs": [
        {
          "output_type": "stream",
          "name": "stdout",
          "text": [
            "['Python', 'Ruby']\n"
          ]
        }
      ]
    },
    {
      "cell_type": "code",
      "source": [
        "l = ['1', 2, '3', 4, '5', 6, '7', 8, '9', 10]\n",
        "\n",
        "print(f'偶数のインデックス番号 : {l[::2]}')"
      ],
      "metadata": {
        "colab": {
          "base_uri": "https://localhost:8080/"
        },
        "id": "qiC6q7sjdpfc",
        "outputId": "606b5162-8aae-4256-eacf-43564e051763"
      },
      "execution_count": null,
      "outputs": [
        {
          "output_type": "stream",
          "name": "stdout",
          "text": [
            "偶数のインデックス番号 : ['1', '3', '5', '7', '9']\n"
          ]
        }
      ]
    },
    {
      "cell_type": "code",
      "source": [
        "l = ['1', 2, '3', 4.0, '5', 6, '7', 8.0, '9', 10]\n",
        "\n",
        "a = []\n",
        "for v in l:\n",
        "  if isinstance(vars, int):\n",
        "    a.append(v)\n",
        "\n",
        "print(a)"
      ],
      "metadata": {
        "colab": {
          "base_uri": "https://localhost:8080/"
        },
        "id": "GVK1F0OEghQc",
        "outputId": "73d3fcde-6cfa-41b8-d6df-81aa0f11fd0a"
      },
      "execution_count": null,
      "outputs": [
        {
          "output_type": "stream",
          "name": "stdout",
          "text": [
            "[]\n"
          ]
        }
      ]
    },
    {
      "cell_type": "code",
      "source": [
        "word_1 = [1, 2, 3, 4, 5]\n",
        "word_2 = [6, 7, 8, 9, 10]\n",
        "\n",
        "word_append = [word_1, word_2]\n",
        "\n",
        "print(f'作成したリスト : {word_append}')"
      ],
      "metadata": {
        "colab": {
          "base_uri": "https://localhost:8080/"
        },
        "id": "WiDfqaL4jxCa",
        "outputId": "352a6092-44a2-4167-b789-99f612444806"
      },
      "execution_count": null,
      "outputs": [
        {
          "output_type": "stream",
          "name": "stdout",
          "text": [
            "作成したリスト : [[1, 2, 3, 4, 5], [6, 7, 8, 9, 10]]\n"
          ]
        }
      ]
    },
    {
      "cell_type": "code",
      "source": [
        "l = [[5*i + j for j in range(1, 6)] for i in range(2)]\n",
        "print(f'作成したリスト : {l}')"
      ],
      "metadata": {
        "colab": {
          "base_uri": "https://localhost:8080/"
        },
        "id": "V4CbzcIVjxDZ",
        "outputId": "9bc9fe9b-705e-44a0-e976-7725f0f20a37"
      },
      "execution_count": null,
      "outputs": [
        {
          "output_type": "stream",
          "name": "stdout",
          "text": [
            "作成したリスト : [[1, 2, 3, 4, 5], [6, 7, 8, 9, 10]]\n"
          ]
        }
      ]
    },
    {
      "cell_type": "code",
      "source": [
        "l = [[1, 2, 3, 4, 5], [6, 7, 8, 9, 10]]\n",
        "\n",
        "for i in l:\n",
        "  a = l[0] + l[1]\n",
        "print(f'一次元にしたリスト : {a}')"
      ],
      "metadata": {
        "colab": {
          "base_uri": "https://localhost:8080/"
        },
        "id": "4b4VfbYkm5Zf",
        "outputId": "3963bb99-9c68-4679-fed1-2df7f2b4c1fc"
      },
      "execution_count": null,
      "outputs": [
        {
          "output_type": "stream",
          "name": "stdout",
          "text": [
            "一次元にしたリスト : [1, 2, 3, 4, 5, 6, 7, 8, 9, 10]\n"
          ]
        }
      ]
    },
    {
      "cell_type": "code",
      "source": [
        "l = [[1, 2, 3, 4, 5], [6, 7, 8, 9, 10]]\n",
        "\n",
        "new_l = [i for row in l for i in row]\n",
        "print(new_l)"
      ],
      "metadata": {
        "colab": {
          "base_uri": "https://localhost:8080/"
        },
        "id": "KnE8xMkTm5a6",
        "outputId": "43279159-e451-4175-e496-9b356912caf6"
      },
      "execution_count": null,
      "outputs": [
        {
          "output_type": "stream",
          "name": "stdout",
          "text": [
            "[1, 2, 3, 4, 5, 6, 7, 8, 9, 10]\n"
          ]
        }
      ]
    },
    {
      "cell_type": "code",
      "source": [
        "l = [1, 2]\n",
        "\n",
        "if l:\n",
        "  print(l)\n",
        "else:\n",
        "  print('入力したリストは空でした。')"
      ],
      "metadata": {
        "colab": {
          "base_uri": "https://localhost:8080/"
        },
        "id": "4A7szZEDrAEB",
        "outputId": "ebfc3d08-bf91-4c08-9b92-f9f1e080cc16"
      },
      "execution_count": null,
      "outputs": [
        {
          "output_type": "stream",
          "name": "stdout",
          "text": [
            "[1, 2]\n"
          ]
        }
      ]
    },
    {
      "cell_type": "code",
      "source": [
        ""
      ],
      "metadata": {
        "id": "tomkK0Zn-JPS"
      },
      "execution_count": null,
      "outputs": []
    }
  ]
}